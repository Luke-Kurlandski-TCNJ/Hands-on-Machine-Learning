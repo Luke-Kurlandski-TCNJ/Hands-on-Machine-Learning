{
 "cells": [
  {
   "cell_type": "markdown",
   "metadata": {},
   "source": [
    "# Chapter 3, Classification"
   ]
  },
  {
   "cell_type": "markdown",
   "metadata": {},
   "source": [
    "## MNIST\n",
    "The mnist set is a collection of thousands of images of hand written numbers.\n",
    "<br>It serves as a standard for testing new ML strategies.\n",
    "## Training a Binary Classifier\n",
    "Binary Classifier - a classifier which can differentiate between two states\n",
    "<br> This is in contrast to a regressor, which predicts values.\n",
    "## Performace Measures\n",
    "### Measuring Accuracy Using Cross-Validation\n",
    "Measuring performace of binary classifcation by accuracy is poor because it can hide reality.\n",
    "<br> For example, suppose a classifier, NotFiveClassifier, is fed 100 digits, 10 of which are 5s. The classifier says that all 100 digits are not 5s; thus, its accuracy is 90%, but in fact the algorithm is total shit.\n",
    "### Confusion Matrix\n",
    "Confusion Matrix - matrix that displays true positives, false positives, false negatives, and true negatives\n",
    "<br> Precision - number of true positives divided by sum of true positives and false positives\n",
    "<br> Recall - number of true positives divided by sum of true positives and false negatives\n",
    "### Precision and Recal;\n",
    "F1 Score - a harmonic combination of precision and recall, used to compare classifiers\n",
    "<br> Decide which is most appropriate for the application: high recall, precision, or F1\n",
    "### Precision/Recall Trade-Off\n",
    "Precision/Recall Trade-Off - increasing precision leads to a decrease in recall and vise versa\n",
    "<br> Decision Threshhold - classification \"line\" that divides the two categories\n",
    "<br> Scikit-Learn does not allow one to set the decision threshold; however one can access raw scores and filter based upon a desired threshold.\n",
    "<br> Compute and plot precision and recall for all possible threshholds to decide what threshold is most appropriate.\n",
    "<br> PR curve is better when positive class is rare or when false positives are more concerning than false negatives.\n",
    "### The ROC Curve\n",
    "Reciever Operating Characteristic - true positive rate (Recall) vs false positive rate\n",
    "<br> For a perfect algorithm, the area under ROC = 1, for random algorithm, area under ROC = .5.\n",
    "<br> Higher recall leads to higher false positive rate. \n",
    "<br> ROC curve is better when the PR curve conditions are not met.\n",
    "## Multiclass Classification\n",
    "Multiclass Classifiers - a classifier that seeks to place an item in one of several classes\n",
    "<br>One Versus the Rest Classifier - a series of N binary classifiers, one for each category an item could fall under; ex for item i, is i a 0? is i a 1? is i a 2?\n",
    "<br>One Versus One Classififier - a series of N(N-1)/2 binary classifiers, one for each pair of categories; ex for item i, is i a 0 or a 1? is i a 0 or a 2? is i a 0 or a 3?\n",
    "<br>OvO classifier only needs to be trained on a subset of data, but generally OvR classifier is preferred.\n",
    "<br>These two classifiers then classify based upon which category \"won\" the most number of \"duels\".\n",
    "## Error Analysis\n",
    "Plotting the confusion matrix as a greyscale image can give useful insights.\n",
    "## Multilabel Classification\n",
    "Multilabel Classification - a classifier that can place an item into multiple categories\n",
    "## Multioutput Calssification\n",
    "Multioutput Calssification - a generalization of multilabel classification where each label can be multiclass\n"
   ]
  },
  {
   "cell_type": "code",
   "execution_count": null,
   "metadata": {},
   "outputs": [],
   "source": []
  }
 ],
 "metadata": {
  "kernelspec": {
   "display_name": "Python 3",
   "language": "python",
   "name": "python3"
  },
  "language_info": {
   "codemirror_mode": {
    "name": "ipython",
    "version": 3
   },
   "file_extension": ".py",
   "mimetype": "text/x-python",
   "name": "python",
   "nbconvert_exporter": "python",
   "pygments_lexer": "ipython3",
   "version": "3.7.4"
  }
 },
 "nbformat": 4,
 "nbformat_minor": 2
}
